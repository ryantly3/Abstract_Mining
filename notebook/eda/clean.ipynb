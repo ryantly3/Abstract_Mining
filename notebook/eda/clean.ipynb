{
 "cells": [
  {
   "cell_type": "code",
   "execution_count": 1,
   "metadata": {},
   "outputs": [],
   "source": [
    "import numpy as np\n",
    "import pandas as pd\n",
    "from sklearn.feature_extraction.text import CountVectorizer\n",
    "from sklearn.feature_extraction.text import TfidfTransformer"
   ]
  },
  {
   "cell_type": "code",
   "execution_count": 5,
   "metadata": {},
   "outputs": [],
   "source": [
    "df = pd.read_csv('WGS_abstracts.txt', sep = '\\t', names = ['Project ID','Title','Abstract','Runs'])\n",
    "df.set_index('Project ID', inplace=True)\n",
    "\n",
    "df = df.replace(r'^\\s+$', 'None', regex=True)\n",
    "df = df.replace(r'none provided', 'None', regex=True)\n",
    "df = df.replace(r'â€˜', '', regex=True)\n",
    "df = df.replace(r'â€™', '', regex=True)\n",
    "df = df.replace(r'\\.(?!\\d)', '', regex=True)\n",
    "df = df.replace(r',', '', regex=True)\n",
    "df = df.replace(r'\\(', '', regex=True)\n",
    "df = df.replace(r'\\)', '', regex=True)\n",
    "df = df.replace(np.nan, '')\n",
    "\n",
    "abstracts = df['Abstract']"
   ]
  },
  {
   "cell_type": "code",
   "execution_count": 16,
   "metadata": {},
   "outputs": [],
   "source": [
    "count_vect = CountVectorizer(stop_words='english', min_df=1, max_df=.25, ngram_range=(1,2))"
   ]
  },
  {
   "cell_type": "code",
   "execution_count": 17,
   "metadata": {},
   "outputs": [
    {
     "data": {
      "text/plain": [
       "[('isolation', 42218),\n",
       " ('phages', 57123),\n",
       " ('waste', 82550),\n",
       " ('water', 82603),\n",
       " ('isolation phages', 42232),\n",
       " ('phages waste', 57145),\n",
       " ('waste water', 82555),\n",
       " ('biogeochemical', 11036),\n",
       " ('cycling', 20596),\n",
       " ('links', 44729),\n",
       " ('terrestrial', 77219),\n",
       " ('marine', 46274),\n",
       " ('systems', 76297),\n",
       " ('biogeochemical cycling', 11041),\n",
       " ('cycling links', 20618),\n",
       " ('links terrestrial', 44737),\n",
       " ('terrestrial marine', 77235),\n",
       " ('marine systems', 46342),\n",
       " ('diamante', 23149),\n",
       " ('lake', 43169)]"
      ]
     },
     "execution_count": 17,
     "metadata": {},
     "output_type": "execute_result"
    }
   ],
   "source": [
    "from itertools import islice\n",
    "cvec.fit(abstracts)\n",
    "list(islice(cvec.vocabulary_.items(), 20))"
   ]
  },
  {
   "cell_type": "code",
   "execution_count": 22,
   "metadata": {},
   "outputs": [],
   "source": [
    "cvec_counts = cvec.transform(abstracts)"
   ]
  },
  {
   "cell_type": "code",
   "execution_count": 20,
   "metadata": {
    "scrolled": true
   },
   "outputs": [
    {
     "data": {
      "text/html": [
       "<div>\n",
       "<style scoped>\n",
       "    .dataframe tbody tr th:only-of-type {\n",
       "        vertical-align: middle;\n",
       "    }\n",
       "\n",
       "    .dataframe tbody tr th {\n",
       "        vertical-align: top;\n",
       "    }\n",
       "\n",
       "    .dataframe thead th {\n",
       "        text-align: right;\n",
       "    }\n",
       "</style>\n",
       "<table border=\"1\" class=\"dataframe\">\n",
       "  <thead>\n",
       "    <tr style=\"text-align: right;\">\n",
       "      <th></th>\n",
       "      <th>term</th>\n",
       "      <th>occurrences</th>\n",
       "    </tr>\n",
       "  </thead>\n",
       "  <tbody>\n",
       "    <tr>\n",
       "      <th>42002</th>\n",
       "      <td>iron induced</td>\n",
       "      <td>1</td>\n",
       "    </tr>\n",
       "    <tr>\n",
       "      <th>52752</th>\n",
       "      <td>nonetheless detailed</td>\n",
       "      <td>1</td>\n",
       "    </tr>\n",
       "    <tr>\n",
       "      <th>52750</th>\n",
       "      <td>nonalcoholic fatty</td>\n",
       "      <td>1</td>\n",
       "    </tr>\n",
       "    <tr>\n",
       "      <th>52749</th>\n",
       "      <td>nonalcoholic</td>\n",
       "      <td>1</td>\n",
       "    </tr>\n",
       "    <tr>\n",
       "      <th>52748</th>\n",
       "      <td>non vegetated</td>\n",
       "      <td>1</td>\n",
       "    </tr>\n",
       "    <tr>\n",
       "      <th>52746</th>\n",
       "      <td>non transplant</td>\n",
       "      <td>1</td>\n",
       "    </tr>\n",
       "    <tr>\n",
       "      <th>52744</th>\n",
       "      <td>non synonymous</td>\n",
       "      <td>1</td>\n",
       "    </tr>\n",
       "    <tr>\n",
       "      <th>52753</th>\n",
       "      <td>nonetheless foresee</td>\n",
       "      <td>1</td>\n",
       "    </tr>\n",
       "    <tr>\n",
       "      <th>52742</th>\n",
       "      <td>non sporulated</td>\n",
       "      <td>1</td>\n",
       "    </tr>\n",
       "    <tr>\n",
       "      <th>52740</th>\n",
       "      <td>non smoking</td>\n",
       "      <td>1</td>\n",
       "    </tr>\n",
       "    <tr>\n",
       "      <th>52739</th>\n",
       "      <td>non simultaneous</td>\n",
       "      <td>1</td>\n",
       "    </tr>\n",
       "    <tr>\n",
       "      <th>52738</th>\n",
       "      <td>non significant</td>\n",
       "      <td>1</td>\n",
       "    </tr>\n",
       "    <tr>\n",
       "      <th>52737</th>\n",
       "      <td>non septic</td>\n",
       "      <td>1</td>\n",
       "    </tr>\n",
       "    <tr>\n",
       "      <th>52734</th>\n",
       "      <td>non saccharomyces</td>\n",
       "      <td>1</td>\n",
       "    </tr>\n",
       "    <tr>\n",
       "      <th>52733</th>\n",
       "      <td>non rrna</td>\n",
       "      <td>1</td>\n",
       "    </tr>\n",
       "    <tr>\n",
       "      <th>52741</th>\n",
       "      <td>non specific</td>\n",
       "      <td>1</td>\n",
       "    </tr>\n",
       "    <tr>\n",
       "      <th>52732</th>\n",
       "      <td>non ribosomal</td>\n",
       "      <td>1</td>\n",
       "    </tr>\n",
       "    <tr>\n",
       "      <th>52754</th>\n",
       "      <td>nonetheless microorganisms</td>\n",
       "      <td>1</td>\n",
       "    </tr>\n",
       "    <tr>\n",
       "      <th>52756</th>\n",
       "      <td>nonrandom</td>\n",
       "      <td>1</td>\n",
       "    </tr>\n",
       "    <tr>\n",
       "      <th>52773</th>\n",
       "      <td>normal children</td>\n",
       "      <td>1</td>\n",
       "    </tr>\n",
       "  </tbody>\n",
       "</table>\n",
       "</div>"
      ],
      "text/plain": [
       "                             term  occurrences\n",
       "42002                iron induced            1\n",
       "52752        nonetheless detailed            1\n",
       "52750          nonalcoholic fatty            1\n",
       "52749                nonalcoholic            1\n",
       "52748               non vegetated            1\n",
       "52746              non transplant            1\n",
       "52744              non synonymous            1\n",
       "52753         nonetheless foresee            1\n",
       "52742              non sporulated            1\n",
       "52740                 non smoking            1\n",
       "52739            non simultaneous            1\n",
       "52738             non significant            1\n",
       "52737                  non septic            1\n",
       "52734           non saccharomyces            1\n",
       "52733                    non rrna            1\n",
       "52741                non specific            1\n",
       "52732               non ribosomal            1\n",
       "52754  nonetheless microorganisms            1\n",
       "52756                   nonrandom            1\n",
       "52773             normal children            1"
      ]
     },
     "execution_count": 20,
     "metadata": {},
     "output_type": "execute_result"
    }
   ],
   "source": [
    "occ = np.asarray(cvec_counts.sum(axis=0)).ravel().tolist()\n",
    "counts_df = pd.DataFrame({'term': cvec.get_feature_names(), 'occurrences': occ})\n",
    "counts_df.sort_values(by='occurrences', ascending=True).head(20)"
   ]
  },
  {
   "cell_type": "code",
   "execution_count": null,
   "metadata": {},
   "outputs": [],
   "source": []
  }
 ],
 "metadata": {
  "kernelspec": {
   "display_name": "Python 3",
   "language": "python",
   "name": "python3"
  },
  "language_info": {
   "codemirror_mode": {
    "name": "ipython",
    "version": 3
   },
   "file_extension": ".py",
   "mimetype": "text/x-python",
   "name": "python",
   "nbconvert_exporter": "python",
   "pygments_lexer": "ipython3",
   "version": "3.6.5"
  }
 },
 "nbformat": 4,
 "nbformat_minor": 2
}
